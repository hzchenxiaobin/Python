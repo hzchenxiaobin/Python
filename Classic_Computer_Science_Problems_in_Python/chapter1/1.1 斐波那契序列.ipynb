{
 "cells": [
  {
   "cell_type": "markdown",
   "id": "da3f642f",
   "metadata": {},
   "source": [
    "## 1.1.1 尝试第一次递归"
   ]
  },
  {
   "cell_type": "code",
   "execution_count": 4,
   "id": "9e4b63d0",
   "metadata": {},
   "outputs": [],
   "source": [
    "def fib1(n: int) -> int:\n",
    "    return fib1(n - 1) + fib1(n-2)"
   ]
  },
  {
   "cell_type": "code",
   "execution_count": 15,
   "id": "d0e50fbd",
   "metadata": {},
   "outputs": [
    {
     "ename": "RecursionError",
     "evalue": "maximum recursion depth exceeded",
     "output_type": "error",
     "traceback": [
      "\u001b[0;31m---------------------------------------------------------------------------\u001b[0m",
      "\u001b[0;31mRecursionError\u001b[0m                            Traceback (most recent call last)",
      "Cell \u001b[0;32mIn[15], line 1\u001b[0m\n\u001b[0;32m----> 1\u001b[0m \u001b[38;5;28mprint\u001b[39m(\u001b[43mfib1\u001b[49m\u001b[43m(\u001b[49m\u001b[38;5;241;43m5\u001b[39;49m\u001b[43m)\u001b[49m)\n",
      "Cell \u001b[0;32mIn[4], line 2\u001b[0m, in \u001b[0;36mfib1\u001b[0;34m(n)\u001b[0m\n\u001b[1;32m      1\u001b[0m \u001b[38;5;28;01mdef\u001b[39;00m \u001b[38;5;21mfib1\u001b[39m(n: \u001b[38;5;28mint\u001b[39m) \u001b[38;5;241m-\u001b[39m\u001b[38;5;241m>\u001b[39m \u001b[38;5;28mint\u001b[39m:\n\u001b[0;32m----> 2\u001b[0m     \u001b[38;5;28;01mreturn\u001b[39;00m \u001b[43mfib1\u001b[49m\u001b[43m(\u001b[49m\u001b[43mn\u001b[49m\u001b[43m \u001b[49m\u001b[38;5;241;43m-\u001b[39;49m\u001b[43m \u001b[49m\u001b[38;5;241;43m1\u001b[39;49m\u001b[43m)\u001b[49m \u001b[38;5;241m+\u001b[39m fib1(n\u001b[38;5;241m-\u001b[39m\u001b[38;5;241m2\u001b[39m)\n",
      "Cell \u001b[0;32mIn[4], line 2\u001b[0m, in \u001b[0;36mfib1\u001b[0;34m(n)\u001b[0m\n\u001b[1;32m      1\u001b[0m \u001b[38;5;28;01mdef\u001b[39;00m \u001b[38;5;21mfib1\u001b[39m(n: \u001b[38;5;28mint\u001b[39m) \u001b[38;5;241m-\u001b[39m\u001b[38;5;241m>\u001b[39m \u001b[38;5;28mint\u001b[39m:\n\u001b[0;32m----> 2\u001b[0m     \u001b[38;5;28;01mreturn\u001b[39;00m \u001b[43mfib1\u001b[49m\u001b[43m(\u001b[49m\u001b[43mn\u001b[49m\u001b[43m \u001b[49m\u001b[38;5;241;43m-\u001b[39;49m\u001b[43m \u001b[49m\u001b[38;5;241;43m1\u001b[39;49m\u001b[43m)\u001b[49m \u001b[38;5;241m+\u001b[39m fib1(n\u001b[38;5;241m-\u001b[39m\u001b[38;5;241m2\u001b[39m)\n",
      "    \u001b[0;31m[... skipping similar frames: fib1 at line 2 (2970 times)]\u001b[0m\n",
      "Cell \u001b[0;32mIn[4], line 2\u001b[0m, in \u001b[0;36mfib1\u001b[0;34m(n)\u001b[0m\n\u001b[1;32m      1\u001b[0m \u001b[38;5;28;01mdef\u001b[39;00m \u001b[38;5;21mfib1\u001b[39m(n: \u001b[38;5;28mint\u001b[39m) \u001b[38;5;241m-\u001b[39m\u001b[38;5;241m>\u001b[39m \u001b[38;5;28mint\u001b[39m:\n\u001b[0;32m----> 2\u001b[0m     \u001b[38;5;28;01mreturn\u001b[39;00m \u001b[43mfib1\u001b[49m\u001b[43m(\u001b[49m\u001b[43mn\u001b[49m\u001b[43m \u001b[49m\u001b[38;5;241;43m-\u001b[39;49m\u001b[43m \u001b[49m\u001b[38;5;241;43m1\u001b[39;49m\u001b[43m)\u001b[49m \u001b[38;5;241m+\u001b[39m fib1(n\u001b[38;5;241m-\u001b[39m\u001b[38;5;241m2\u001b[39m)\n",
      "\u001b[0;31mRecursionError\u001b[0m: maximum recursion depth exceeded"
     ]
    }
   ],
   "source": [
    "print(fib1(5))"
   ]
  },
  {
   "cell_type": "markdown",
   "id": "60f039f6",
   "metadata": {},
   "source": [
    "## 1.1.2 基线条件的运用"
   ]
  },
  {
   "cell_type": "code",
   "execution_count": 7,
   "id": "94661319",
   "metadata": {},
   "outputs": [],
   "source": [
    "def fib2(n: int) -> int:\n",
    "    if n < 2:\n",
    "        return n\n",
    "    return fib2(n - 2) + fib2(n - 1)"
   ]
  },
  {
   "cell_type": "code",
   "execution_count": 13,
   "id": "2caaffa2",
   "metadata": {},
   "outputs": [
    {
     "name": "stdout",
     "output_type": "stream",
     "text": [
      "5\n",
      "55\n"
     ]
    }
   ],
   "source": [
    "print(fib2(5))\n",
    "print(fib2(10))"
   ]
  },
  {
   "cell_type": "markdown",
   "id": "886a5596",
   "metadata": {},
   "source": [
    "## 1.1.3 用结果缓存来救场"
   ]
  },
  {
   "cell_type": "code",
   "execution_count": 14,
   "id": "2319e328",
   "metadata": {},
   "outputs": [],
   "source": [
    "from typing import Dict\n",
    "memo: Dict[int, int] = {0: 0, 1: 1}\n",
    "\n",
    "def fib3(n: int) -> int:\n",
    "    if n not in memo:\n",
    "        memo[n] = fib3(n - 1) + fib3(n - 2)\n",
    "    return memo[n]"
   ]
  },
  {
   "cell_type": "code",
   "execution_count": 12,
   "id": "f9edc44b",
   "metadata": {},
   "outputs": [
    {
     "name": "stdout",
     "output_type": "stream",
     "text": [
      "5\n",
      "12586269025\n"
     ]
    }
   ],
   "source": [
    "print(fib3(5))\n",
    "print(fib3(50))"
   ]
  },
  {
   "cell_type": "markdown",
   "id": "a37c613b",
   "metadata": {},
   "source": [
    "## 1.1.4 自动化的结果缓存"
   ]
  },
  {
   "cell_type": "code",
   "execution_count": 20,
   "id": "cf185b61",
   "metadata": {},
   "outputs": [],
   "source": [
    "from functools import lru_cache\n",
    "\n",
    "@lru_cache(maxsize=None)\n",
    "def fib4(n: int) -> int:\n",
    "    if n < 2:\n",
    "        return n\n",
    "    return fib4(n - 2) + fib4(n - 1)"
   ]
  },
  {
   "cell_type": "code",
   "execution_count": 21,
   "id": "9168f7bc",
   "metadata": {},
   "outputs": [
    {
     "name": "stdout",
     "output_type": "stream",
     "text": [
      "5\n",
      "12586269025\n"
     ]
    }
   ],
   "source": [
    "print(fib4(5))\n",
    "print(fib4(50))"
   ]
  },
  {
   "cell_type": "markdown",
   "id": "38e2f306",
   "metadata": {},
   "source": [
    "## 1.1.5 简洁至上的斐波那契"
   ]
  },
  {
   "cell_type": "code",
   "execution_count": 23,
   "id": "7a7c45da",
   "metadata": {},
   "outputs": [],
   "source": [
    "def fib5(n: int) -> int:\n",
    "    if n == 0: return n\n",
    "    last: int = 0\n",
    "    next: int = 1\n",
    "    for _ in range(1, n):\n",
    "        last, next = next, last + next\n",
    "    return next"
   ]
  },
  {
   "cell_type": "code",
   "execution_count": 24,
   "id": "018529e4",
   "metadata": {},
   "outputs": [
    {
     "name": "stdout",
     "output_type": "stream",
     "text": [
      "5\n",
      "12586269025\n"
     ]
    }
   ],
   "source": [
    "print(fib5(5))\n",
    "print(fib5(50))"
   ]
  },
  {
   "cell_type": "markdown",
   "id": "6017e8de",
   "metadata": {},
   "source": [
    "## 1.1.6 用生成器生成斐波那契数"
   ]
  },
  {
   "cell_type": "code",
   "execution_count": 2,
   "id": "e83835e2",
   "metadata": {},
   "outputs": [],
   "source": [
    "from typing import Generator\n",
    "\n",
    "def fib6(n: int) -> Generator[int, None, None]:\n",
    "    yield 0\n",
    "    if n > 0: yield 1\n",
    "    last: int = 0\n",
    "    next: int = 1\n",
    "    for _ in range(1, n):\n",
    "        last, next = next, last + next\n",
    "        yield next"
   ]
  },
  {
   "cell_type": "code",
   "execution_count": 3,
   "id": "823f29df",
   "metadata": {},
   "outputs": [
    {
     "name": "stdout",
     "output_type": "stream",
     "text": [
      "0\n",
      "1\n",
      "1\n",
      "2\n",
      "3\n",
      "5\n",
      "8\n",
      "13\n",
      "21\n",
      "34\n",
      "55\n",
      "89\n",
      "144\n",
      "233\n",
      "377\n",
      "610\n",
      "987\n",
      "1597\n",
      "2584\n",
      "4181\n",
      "6765\n",
      "10946\n",
      "17711\n",
      "28657\n",
      "46368\n",
      "75025\n",
      "121393\n",
      "196418\n",
      "317811\n",
      "514229\n",
      "832040\n",
      "1346269\n",
      "2178309\n",
      "3524578\n",
      "5702887\n",
      "9227465\n",
      "14930352\n",
      "24157817\n",
      "39088169\n",
      "63245986\n",
      "102334155\n",
      "165580141\n",
      "267914296\n",
      "433494437\n",
      "701408733\n",
      "1134903170\n",
      "1836311903\n",
      "2971215073\n",
      "4807526976\n",
      "7778742049\n",
      "12586269025\n"
     ]
    }
   ],
   "source": [
    "for i in fib6(50):\n",
    "    print(i)"
   ]
  },
  {
   "cell_type": "code",
   "execution_count": null,
   "id": "3e043166",
   "metadata": {},
   "outputs": [],
   "source": []
  }
 ],
 "metadata": {
  "kernelspec": {
   "display_name": "Python 3 (ipykernel)",
   "language": "python",
   "name": "python3"
  },
  "language_info": {
   "codemirror_mode": {
    "name": "ipython",
    "version": 3
   },
   "file_extension": ".py",
   "mimetype": "text/x-python",
   "name": "python",
   "nbconvert_exporter": "python",
   "pygments_lexer": "ipython3",
   "version": "3.10.9"
  }
 },
 "nbformat": 4,
 "nbformat_minor": 5
}
