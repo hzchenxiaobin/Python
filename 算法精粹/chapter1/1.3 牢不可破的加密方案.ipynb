{
 "cells": [
  {
   "cell_type": "markdown",
   "id": "4a67eeb5",
   "metadata": {},
   "source": [
    "## 1.3.1 牢不可破的加密方案"
   ]
  },
  {
   "cell_type": "code",
   "execution_count": 6,
   "id": "ed507e78",
   "metadata": {},
   "outputs": [],
   "source": [
    "from secrets import token_bytes\n",
    "from typing import Tuple\n",
    "\n",
    "def random_key(length: int) -> int:\n",
    "    tb: bytes = token_bytes(length)\n",
    "    return int.from_bytes(tb, \"big\")\n",
    "\n",
    "def encrypt(original: str) -> Tuple[int, int]:\n",
    "    original_bytes = original.encode()\n",
    "    dummy: int = random_key(len(original_bytes))\n",
    "    original_key: int = int.from_bytes(original_bytes, \"big\")\n",
    "    encrypted: int = original_key ^ dummy\n",
    "    return dummy, encrypted\n",
    "\n",
    "def decrypt(key1: int, key2: int) -> str:\n",
    "    decrypted: int = key1 ^ key2\n",
    "    temp: bytes = decrypted.to_bytes((decrypted.bit_length() + 7) // 8, \"big\")\n",
    "    return temp.decode()"
   ]
  },
  {
   "cell_type": "code",
   "execution_count": 7,
   "id": "1ffeb3a1",
   "metadata": {},
   "outputs": [
    {
     "name": "stdout",
     "output_type": "stream",
     "text": [
      "One Time Pad!\n"
     ]
    }
   ],
   "source": [
    "key1, key2 = encrypt(\"One Time Pad!\")\n",
    "result: str = decrypt(key1, key2)\n",
    "print(result)"
   ]
  },
  {
   "cell_type": "code",
   "execution_count": null,
   "id": "d43d3726",
   "metadata": {},
   "outputs": [],
   "source": []
  }
 ],
 "metadata": {
  "kernelspec": {
   "display_name": "Python 3 (ipykernel)",
   "language": "python",
   "name": "python3"
  },
  "language_info": {
   "codemirror_mode": {
    "name": "ipython",
    "version": 3
   },
   "file_extension": ".py",
   "mimetype": "text/x-python",
   "name": "python",
   "nbconvert_exporter": "python",
   "pygments_lexer": "ipython3",
   "version": "3.10.9"
  }
 },
 "nbformat": 4,
 "nbformat_minor": 5
}
