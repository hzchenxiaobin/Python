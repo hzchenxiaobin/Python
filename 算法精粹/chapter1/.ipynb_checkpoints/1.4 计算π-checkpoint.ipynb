{
 "cells": [
  {
   "cell_type": "code",
   "execution_count": 18,
   "id": "4b9bd792",
   "metadata": {},
   "outputs": [],
   "source": [
    "def calculate_pi(n_terms: int) -> float:\n",
    "    numerator: float = 4.0\n",
    "    denominator: float = 1.0\n",
    "    operation: float = 1.0\n",
    "    pi: float = 0.0\n",
    "    for _ in range(n_terms):\n",
    "        pi += operation * (numerator / denominator)\n",
    "        denominator += 2.0\n",
    "        operation *= -1.0\n",
    "    return pi"
   ]
  },
  {
   "cell_type": "code",
   "execution_count": 21,
   "id": "90781fba",
   "metadata": {},
   "outputs": [
    {
     "name": "stdout",
     "output_type": "stream",
     "text": [
      "3.141592643589326\n"
     ]
    }
   ],
   "source": [
    "print(calculate_pi(100000000))"
   ]
  }
 ],
 "metadata": {
  "kernelspec": {
   "display_name": "Python 3 (ipykernel)",
   "language": "python",
   "name": "python3"
  },
  "language_info": {
   "codemirror_mode": {
    "name": "ipython",
    "version": 3
   },
   "file_extension": ".py",
   "mimetype": "text/x-python",
   "name": "python",
   "nbconvert_exporter": "python",
   "pygments_lexer": "ipython3",
   "version": "3.10.9"
  }
 },
 "nbformat": 4,
 "nbformat_minor": 5
}
